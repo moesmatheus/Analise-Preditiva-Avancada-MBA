{
 "cells": [
  {
   "cell_type": "code",
   "execution_count": null,
   "metadata": {},
   "outputs": [],
   "source": [
    "%%bash\n",
    "\n",
    "pip install pandas \\\n",
    "    seaborn \\\n",
    "    sklearn \\\n",
    "    catboost \\\n",
    "    scikit-optimize tqdm \\\n",
    "    TPOT\n"
   ]
  },
  {
   "cell_type": "code",
   "execution_count": 291,
   "metadata": {},
   "outputs": [],
   "source": [
    "import pandas as pd\n",
    "import seaborn as sns\n",
    "import numpy as np\n",
    "from matplotlib import pyplot as plt\n",
    "import json\n",
    "import warnings\n",
    "from sklearn.preprocessing import StandardScaler\n",
    "from sklearn.model_selection import train_test_split, GridSearchCV, cross_val_score, cross_val_predict, KFold\n",
    "from tpot import TPOTClassifier\n",
    "\n",
    "# Linear Methods\n",
    "from sklearn.linear_model import LogisticRegression, RidgeClassifier, SGDClassifier\n",
    "\n",
    "# Ensemble methods\n",
    "from sklearn.ensemble import AdaBoostClassifier, BaggingClassifier, GradientBoostingClassifier, RandomForestClassifier, VotingClassifier\n",
    "\n",
    "# Multi layer perceptron\n",
    "from sklearn.neural_network import MLPClassifier\n",
    "\n",
    "# Suport Vector Machine\n",
    "from sklearn.svm import LinearSVC\n",
    "\n",
    "from sklearn.neighbors import KNeighborsClassifier\n",
    "\n",
    "# Metrics\n",
    "from sklearn.metrics import plot_confusion_matrix, roc_auc_score, classification_report , confusion_matrix\n",
    "\n",
    "from catboost import CatBoostClassifier\n",
    "from skopt import BayesSearchCV\n",
    "from skopt.space import Real, Categorical, Integer\n",
    "import tqdm"
   ]
  },
  {
   "cell_type": "markdown",
   "metadata": {},
   "source": [
    "Read Data"
   ]
  },
  {
   "cell_type": "code",
   "execution_count": 292,
   "metadata": {},
   "outputs": [
    {
     "name": "stdout",
     "output_type": "stream",
     "text": [
      "Shape: (768, 9)\n",
      "\n"
     ]
    },
    {
     "data": {
      "text/html": [
       "<div>\n",
       "<style scoped>\n",
       "    .dataframe tbody tr th:only-of-type {\n",
       "        vertical-align: middle;\n",
       "    }\n",
       "\n",
       "    .dataframe tbody tr th {\n",
       "        vertical-align: top;\n",
       "    }\n",
       "\n",
       "    .dataframe thead th {\n",
       "        text-align: right;\n",
       "    }\n",
       "</style>\n",
       "<table border=\"1\" class=\"dataframe\">\n",
       "  <thead>\n",
       "    <tr style=\"text-align: right;\">\n",
       "      <th></th>\n",
       "      <th>Pregnancies</th>\n",
       "      <th>Glucose</th>\n",
       "      <th>BloodPressure</th>\n",
       "      <th>SkinThickness</th>\n",
       "      <th>Insulin</th>\n",
       "      <th>BMI</th>\n",
       "      <th>DiabetesPedigreeFunction</th>\n",
       "      <th>Age</th>\n",
       "      <th>Outcome</th>\n",
       "    </tr>\n",
       "  </thead>\n",
       "  <tbody>\n",
       "    <tr>\n",
       "      <th>0</th>\n",
       "      <td>6</td>\n",
       "      <td>148</td>\n",
       "      <td>72</td>\n",
       "      <td>35</td>\n",
       "      <td>0</td>\n",
       "      <td>33.6</td>\n",
       "      <td>0.627</td>\n",
       "      <td>50</td>\n",
       "      <td>1</td>\n",
       "    </tr>\n",
       "    <tr>\n",
       "      <th>1</th>\n",
       "      <td>1</td>\n",
       "      <td>85</td>\n",
       "      <td>66</td>\n",
       "      <td>29</td>\n",
       "      <td>0</td>\n",
       "      <td>26.6</td>\n",
       "      <td>0.351</td>\n",
       "      <td>31</td>\n",
       "      <td>0</td>\n",
       "    </tr>\n",
       "    <tr>\n",
       "      <th>2</th>\n",
       "      <td>8</td>\n",
       "      <td>183</td>\n",
       "      <td>64</td>\n",
       "      <td>0</td>\n",
       "      <td>0</td>\n",
       "      <td>23.3</td>\n",
       "      <td>0.672</td>\n",
       "      <td>32</td>\n",
       "      <td>1</td>\n",
       "    </tr>\n",
       "    <tr>\n",
       "      <th>3</th>\n",
       "      <td>1</td>\n",
       "      <td>89</td>\n",
       "      <td>66</td>\n",
       "      <td>23</td>\n",
       "      <td>94</td>\n",
       "      <td>28.1</td>\n",
       "      <td>0.167</td>\n",
       "      <td>21</td>\n",
       "      <td>0</td>\n",
       "    </tr>\n",
       "    <tr>\n",
       "      <th>4</th>\n",
       "      <td>0</td>\n",
       "      <td>137</td>\n",
       "      <td>40</td>\n",
       "      <td>35</td>\n",
       "      <td>168</td>\n",
       "      <td>43.1</td>\n",
       "      <td>2.288</td>\n",
       "      <td>33</td>\n",
       "      <td>1</td>\n",
       "    </tr>\n",
       "  </tbody>\n",
       "</table>\n",
       "</div>"
      ],
      "text/plain": [
       "   Pregnancies  Glucose  BloodPressure  SkinThickness  Insulin   BMI  \\\n",
       "0            6      148             72             35        0  33.6   \n",
       "1            1       85             66             29        0  26.6   \n",
       "2            8      183             64              0        0  23.3   \n",
       "3            1       89             66             23       94  28.1   \n",
       "4            0      137             40             35      168  43.1   \n",
       "\n",
       "   DiabetesPedigreeFunction  Age  Outcome  \n",
       "0                     0.627   50        1  \n",
       "1                     0.351   31        0  \n",
       "2                     0.672   32        1  \n",
       "3                     0.167   21        0  \n",
       "4                     2.288   33        1  "
      ]
     },
     "execution_count": 292,
     "metadata": {},
     "output_type": "execute_result"
    }
   ],
   "source": [
    "df = pd.read_csv('diabetes.csv')\n",
    "\n",
    "print(f'Shape: {df.shape}\\n')\n",
    "\n",
    "df.head()"
   ]
  },
  {
   "cell_type": "markdown",
   "metadata": {},
   "source": [
    "Features and labels"
   ]
  },
  {
   "cell_type": "code",
   "execution_count": 293,
   "metadata": {},
   "outputs": [],
   "source": [
    "features = df.drop('Outcome', axis = 1)\n",
    "labels = df['Outcome']"
   ]
  },
  {
   "cell_type": "code",
   "execution_count": 294,
   "metadata": {},
   "outputs": [],
   "source": [
    "features = StandardScaler().fit_transform(features)"
   ]
  },
  {
   "cell_type": "markdown",
   "metadata": {},
   "source": [
    "Train and test split"
   ]
  },
  {
   "cell_type": "code",
   "execution_count": 295,
   "metadata": {},
   "outputs": [],
   "source": [
    "features_train, features_test, labels_train, labels_test = train_test_split(features, labels, test_size = .2)"
   ]
  },
  {
   "cell_type": "markdown",
   "metadata": {},
   "source": [
    "Models"
   ]
  },
  {
   "cell_type": "code",
   "execution_count": 306,
   "metadata": {},
   "outputs": [],
   "source": [
    "models = {\n",
    "    'Logistic Regression': LogisticRegression,\n",
    "    'Catboost': CatBoostClassifier,\n",
    "#     'Ridge': RidgeClassifier,\n",
    "#     'AdaBoost': AdaBoostClassifier,\n",
    "#     'Bagging': BaggingClassifier,\n",
    "    'Gradient Boosting': GradientBoostingClassifier,\n",
    "    'Random Forest': RandomForestClassifier,\n",
    "    'KNeighborsClassifier': KNeighborsClassifier,\n",
    "    'LinearSVC': LinearSVC,\n",
    "    'SGDClassifier': SGDClassifier\n",
    "}\n",
    "\n",
    "param_search = {\n",
    "    'Logistic Regression': {\n",
    "        'penalty': [\"l1\", \"l2\"],\n",
    "        'C': Real(1e-4, 25.),\n",
    "        'solver': ['liblinear']\n",
    "    },\n",
    "    'Catboost': {\n",
    "        'iterations': [100],\n",
    "        'depth':Integer(2,10),\n",
    "        'learning_rate': Real(.001, 1.0),\n",
    "        'silent': [True],\n",
    "        'l2_leaf_reg': Real(.01, 1.0)\n",
    "        },\n",
    "#     'Ridge': {\n",
    "        \n",
    "#     },\n",
    "#     'AdaBoost': {\n",
    "        \n",
    "#     },\n",
    "#     'Bagging': {\n",
    "        \n",
    "#     },\n",
    "    'Gradient Boosting': {\n",
    "        'learning_rate': Real(1e-3, 1.),\n",
    "        'max_depth': Integer(1, 11),\n",
    "        'min_samples_split': Integer(2, 21),\n",
    "        'min_samples_leaf': Integer(1, 21),\n",
    "        'subsample': Real(0.05, 1.),\n",
    "        'max_features': Real(0.05, 1.)\n",
    "    },\n",
    "    'Random Forest': {\n",
    "        'criterion': Categorical([\"gini\", \"entropy\"]),\n",
    "        'max_features': Real(.05, 1.),\n",
    "        'min_samples_split': Integer(2,21),\n",
    "        'min_samples_leaf':  Integer(1,21),\n",
    "        'bootstrap': [True, False]\n",
    "    },\n",
    "    'KNeighborsClassifier':{\n",
    "        'n_neighbors': Integer(1, 101),\n",
    "        'weights': [\"uniform\", \"distance\"],\n",
    "        'p': [1, 2]\n",
    "    },\n",
    "    'LinearSVC':{\n",
    "        'penalty': [\"l1\", \"l2\"],\n",
    "        'loss': [\"hinge\", \"squared_hinge\"],\n",
    "        'dual': [True, False],\n",
    "        'tol': Real(1e-5, 1e-1),\n",
    "        'C': Real(1e-4, 25.)\n",
    "    },\n",
    "    'SGDClassifier':{\n",
    "        'loss': ['log', 'hinge', 'modified_huber', 'squared_hinge', 'perceptron'],\n",
    "        'penalty': ['elasticnet'],\n",
    "        'alpha': Real(0.0, 0.001),\n",
    "        'learning_rate': ['invscaling', 'constant'],\n",
    "        'fit_intercept': [True, False],\n",
    "        'l1_ratio': Real(0.25, 0.5),\n",
    "        'eta0': Real(0.01, 0.1),\n",
    "        'power_t': Real(0.5, 50.0)\n",
    "    }\n",
    "}\n",
    "\n",
    "params = {i:{} for i in models}\n",
    "\n",
    "fit_params = {\n",
    "    'Logistic Regression': {},\n",
    "    'Catboost': {'silent':True},\n",
    "    'Ridge': {},\n",
    "    'AdaBoost': {},\n",
    "    'Bagging': {},\n",
    "    'Gradient Boosting': {},\n",
    "    'Random Forest': {},\n",
    "    'KNeighborsClassifier': {},\n",
    "    'LinearSVC': {},\n",
    "    'SGDClassifier': {}\n",
    "}"
   ]
  },
  {
   "cell_type": "markdown",
   "metadata": {},
   "source": [
    "### Cross validation"
   ]
  },
  {
   "cell_type": "markdown",
   "metadata": {},
   "source": [
    "Test with default parameters"
   ]
  },
  {
   "cell_type": "code",
   "execution_count": 307,
   "metadata": {},
   "outputs": [
    {
     "name": "stdout",
     "output_type": "stream",
     "text": [
      ">> Model: Logistic Regression\n",
      "Mean Score: 0.727\tSTD: 0.022\tScores: [0.7312963  0.70347222 0.71522879 0.76788124 0.71801347]\n",
      "\n",
      ">> Model: Catboost\n",
      "Mean Score: 0.737\tSTD: 0.038\tScores: [0.70703704 0.7046875  0.74823657 0.8060054  0.72138047]\n",
      "\n",
      ">> Model: Gradient Boosting\n",
      "Mean Score: 0.740\tSTD: 0.032\tScores: [0.75833333 0.70138889 0.73946464 0.78879892 0.71127946]\n",
      "\n",
      ">> Model: Random Forest\n",
      "Mean Score: 0.729\tSTD: 0.041\tScores: [0.73407407 0.6734375  0.75492856 0.7891363  0.69444444]\n",
      "\n",
      ">> Model: KNeighborsClassifier\n",
      "Mean Score: 0.692\tSTD: 0.018\tScores: [0.68277778 0.6734375  0.71730874 0.71120108 0.67760943]\n",
      "\n",
      ">> Model: LinearSVC\n",
      "Mean Score: 0.730\tSTD: 0.022\tScores: [0.7412963  0.70347222 0.72038343 0.76788124 0.71801347]\n",
      "\n",
      ">> Model: SGDClassifier\n",
      "Mean Score: 0.697\tSTD: 0.048\tScores: [0.68222222 0.69704861 0.67914632 0.78475034 0.64141414]\n",
      "\n",
      "CPU times: user 16.3 s, sys: 1.17 s, total: 17.4 s\n",
      "Wall time: 9.12 s\n"
     ]
    }
   ],
   "source": [
    "%%time\n",
    "\n",
    "# Remove Warnig messages\n",
    "warnings.simplefilter('ignore')\n",
    "\n",
    "cv = KFold(n_splits = 5)\n",
    "\n",
    "scores = {}\n",
    "\n",
    "for i in models:\n",
    "    \n",
    "    print(f'>> Model: {i}')\n",
    "    \n",
    "    score = cross_val_score(models[i](), features, labels, cv = cv, \n",
    "                             scoring = 'balanced_accuracy', fit_params = fit_params[i]\n",
    "                            )\n",
    "    scores[i] = {'mean': np.mean(score), 'all': score}\n",
    "    \n",
    "    print(f'Mean Score: {np.mean(score):.3f}\\tSTD: {np.std(score):.3f}\\tScores: {score}\\n')\n",
    "    \n",
    "warnings.simplefilter('default')"
   ]
  },
  {
   "cell_type": "markdown",
   "metadata": {},
   "source": [
    "### Parameter Tunning"
   ]
  },
  {
   "cell_type": "code",
   "execution_count": 308,
   "metadata": {},
   "outputs": [
    {
     "name": "stderr",
     "output_type": "stream",
     "text": [
      "/Users/matheus/Documents/MBA FGV/Análise Preditiva Avançada/venv-analise-preditiva/lib/python3.8/site-packages/ipykernel/ipkernel.py:287: DeprecationWarning: `should_run_async` will not call `transform_cell` automatically in the future. Please pass the result to `transformed_cell` argument and any exception that happen during thetransform in `preprocessing_exc_tuple` in IPython 7.17 and above.\n",
      "  and should_run_async(code)\n",
      "100%|██████████| 7/7 [11:00<00:00, 94.36s/it]"
     ]
    },
    {
     "name": "stdout",
     "output_type": "stream",
     "text": [
      "CPU times: user 16min 30s, sys: 1min 59s, total: 18min 29s\n",
      "Wall time: 11min\n"
     ]
    },
    {
     "name": "stderr",
     "output_type": "stream",
     "text": [
      "\n"
     ]
    }
   ],
   "source": [
    "%%time\n",
    "\n",
    "# Remove Warnig messages\n",
    "warnings.simplefilter('ignore')\n",
    "\n",
    "cv = KFold(n_splits = 5)\n",
    "\n",
    "for i in tqdm.tqdm(models):\n",
    "\n",
    "    searcher = BayesSearchCV(\n",
    "        estimator = models[i](), \n",
    "        search_spaces = param_search[i], \n",
    "        error_score = 0, n_iter = 50, cv = cv\n",
    "    )\n",
    "\n",
    "    searcher.fit(features, labels)\n",
    "\n",
    "    params[i] = searcher.best_params_\n",
    "    \n",
    "warnings.simplefilter('default')"
   ]
  },
  {
   "cell_type": "markdown",
   "metadata": {},
   "source": [
    "Store parameters on file"
   ]
  },
  {
   "cell_type": "code",
   "execution_count": 309,
   "metadata": {},
   "outputs": [
    {
     "name": "stderr",
     "output_type": "stream",
     "text": [
      "/Users/matheus/Documents/MBA FGV/Análise Preditiva Avançada/venv-analise-preditiva/lib/python3.8/site-packages/ipykernel/ipkernel.py:287: DeprecationWarning: `should_run_async` will not call `transform_cell` automatically in the future. Please pass the result to `transformed_cell` argument and any exception that happen during thetransform in `preprocessing_exc_tuple` in IPython 7.17 and above.\n",
      "  and should_run_async(code)\n"
     ]
    }
   ],
   "source": [
    "with open('params.json', 'w') as f:\n",
    "    json.dump(params, f, indent = 4)"
   ]
  },
  {
   "cell_type": "markdown",
   "metadata": {},
   "source": [
    "Test again with parameters"
   ]
  },
  {
   "cell_type": "code",
   "execution_count": 310,
   "metadata": {},
   "outputs": [
    {
     "name": "stdout",
     "output_type": "stream",
     "text": [
      ">> Model: Logistic Regression\n",
      "Mean Score: 0.727\tScores: [0.7312963  0.69010417 0.72038343 0.76788124 0.72727273]\n",
      "\n",
      ">> Model: Catboost\n",
      "Mean Score: 0.737\tScores: [0.7162963  0.66892361 0.74823657 0.81916329 0.73063973]\n",
      "\n",
      ">> Model: Gradient Boosting\n",
      "Mean Score: 0.717\tScores: [0.71777778 0.66996528 0.72707542 0.77631579 0.69360269]\n",
      "\n",
      ">> Model: Random Forest\n",
      "Mean Score: 0.737\tScores: [0.73555556 0.6734375  0.74100199 0.80195682 0.73148148]\n",
      "\n",
      ">> Model: KNeighborsClassifier\n",
      "Mean Score: 0.700\tScores: [0.73       0.6453125  0.71260626 0.74662618 0.66414141]\n",
      "\n",
      ">> Model: LinearSVC\n",
      "Mean Score: 0.725\tScores: [0.7412963  0.70347222 0.70645686 0.76788124 0.70791246]\n",
      "\n",
      ">> Model: SGDClassifier\n",
      "Mean Score: 0.721\tScores: [0.71703704 0.70347222 0.72038343 0.75067476 0.71380471]\n",
      "\n",
      "CPU times: user 2.92 s, sys: 219 ms, total: 3.14 s\n",
      "Wall time: 2.75 s\n"
     ]
    },
    {
     "name": "stderr",
     "output_type": "stream",
     "text": [
      "/Users/matheus/Documents/MBA FGV/Análise Preditiva Avançada/venv-analise-preditiva/lib/python3.8/site-packages/sklearn/svm/_base.py:976: ConvergenceWarning: Liblinear failed to converge, increase the number of iterations.\n",
      "  warnings.warn(\"Liblinear failed to converge, increase \"\n",
      "/Users/matheus/Documents/MBA FGV/Análise Preditiva Avançada/venv-analise-preditiva/lib/python3.8/site-packages/sklearn/svm/_base.py:976: ConvergenceWarning: Liblinear failed to converge, increase the number of iterations.\n",
      "  warnings.warn(\"Liblinear failed to converge, increase \"\n",
      "/Users/matheus/Documents/MBA FGV/Análise Preditiva Avançada/venv-analise-preditiva/lib/python3.8/site-packages/sklearn/svm/_base.py:976: ConvergenceWarning: Liblinear failed to converge, increase the number of iterations.\n",
      "  warnings.warn(\"Liblinear failed to converge, increase \"\n",
      "/Users/matheus/Documents/MBA FGV/Análise Preditiva Avançada/venv-analise-preditiva/lib/python3.8/site-packages/sklearn/svm/_base.py:976: ConvergenceWarning: Liblinear failed to converge, increase the number of iterations.\n",
      "  warnings.warn(\"Liblinear failed to converge, increase \"\n",
      "/Users/matheus/Documents/MBA FGV/Análise Preditiva Avançada/venv-analise-preditiva/lib/python3.8/site-packages/sklearn/svm/_base.py:976: ConvergenceWarning: Liblinear failed to converge, increase the number of iterations.\n",
      "  warnings.warn(\"Liblinear failed to converge, increase \"\n"
     ]
    }
   ],
   "source": [
    "%%time\n",
    "\n",
    "cv = KFold(n_splits = 5)\n",
    "\n",
    "scores = {}\n",
    "\n",
    "for i in models:\n",
    "    \n",
    "    print(f'>> Model: {i}')\n",
    "    \n",
    "    score = cross_val_score(models[i](** params[i]), features, labels, cv = cv, \n",
    "                             scoring = 'balanced_accuracy', fit_params = fit_params[i]\n",
    "                            )\n",
    "    scores[i] = {'mean': np.mean(score), 'all': score}\n",
    "    \n",
    "    print(f'Mean Score: {np.mean(score):.3f}\\tScores: {score}\\n')"
   ]
  },
  {
   "cell_type": "markdown",
   "metadata": {},
   "source": [
    "Make Predictions"
   ]
  },
  {
   "cell_type": "code",
   "execution_count": 311,
   "metadata": {},
   "outputs": [
    {
     "name": "stderr",
     "output_type": "stream",
     "text": [
      "/Users/matheus/Documents/MBA FGV/Análise Preditiva Avançada/venv-analise-preditiva/lib/python3.8/site-packages/ipykernel/ipkernel.py:287: DeprecationWarning: `should_run_async` will not call `transform_cell` automatically in the future. Please pass the result to `transformed_cell` argument and any exception that happen during thetransform in `preprocessing_exc_tuple` in IPython 7.17 and above.\n",
      "  and should_run_async(code)\n",
      "/Users/matheus/Documents/MBA FGV/Análise Preditiva Avançada/venv-analise-preditiva/lib/python3.8/site-packages/sklearn/svm/_base.py:976: ConvergenceWarning: Liblinear failed to converge, increase the number of iterations.\n",
      "  warnings.warn(\"Liblinear failed to converge, increase \"\n",
      "/Users/matheus/Documents/MBA FGV/Análise Preditiva Avançada/venv-analise-preditiva/lib/python3.8/site-packages/sklearn/svm/_base.py:976: ConvergenceWarning: Liblinear failed to converge, increase the number of iterations.\n",
      "  warnings.warn(\"Liblinear failed to converge, increase \"\n",
      "/Users/matheus/Documents/MBA FGV/Análise Preditiva Avançada/venv-analise-preditiva/lib/python3.8/site-packages/sklearn/svm/_base.py:976: ConvergenceWarning: Liblinear failed to converge, increase the number of iterations.\n",
      "  warnings.warn(\"Liblinear failed to converge, increase \"\n",
      "/Users/matheus/Documents/MBA FGV/Análise Preditiva Avançada/venv-analise-preditiva/lib/python3.8/site-packages/sklearn/svm/_base.py:976: ConvergenceWarning: Liblinear failed to converge, increase the number of iterations.\n",
      "  warnings.warn(\"Liblinear failed to converge, increase \"\n",
      "/Users/matheus/Documents/MBA FGV/Análise Preditiva Avançada/venv-analise-preditiva/lib/python3.8/site-packages/sklearn/svm/_base.py:976: ConvergenceWarning: Liblinear failed to converge, increase the number of iterations.\n",
      "  warnings.warn(\"Liblinear failed to converge, increase \"\n"
     ]
    }
   ],
   "source": [
    "predictions = {}\n",
    "\n",
    "for i in models:\n",
    "    predictions[i] = cross_val_predict(models[i](** fit_params[i]), features, labels)\n",
    "\n",
    "predictions_df = pd.DataFrame(predictions)"
   ]
  },
  {
   "cell_type": "markdown",
   "metadata": {},
   "source": [
    "### Ensemble with vote"
   ]
  },
  {
   "cell_type": "code",
   "execution_count": 312,
   "metadata": {},
   "outputs": [
    {
     "name": "stderr",
     "output_type": "stream",
     "text": [
      "/Users/matheus/Documents/MBA FGV/Análise Preditiva Avançada/venv-analise-preditiva/lib/python3.8/site-packages/ipykernel/ipkernel.py:287: DeprecationWarning: `should_run_async` will not call `transform_cell` automatically in the future. Please pass the result to `transformed_cell` argument and any exception that happen during thetransform in `preprocessing_exc_tuple` in IPython 7.17 and above.\n",
      "  and should_run_async(code)\n"
     ]
    }
   ],
   "source": [
    "pred_vote = np.round(predictions_df.mean(axis = 1))"
   ]
  },
  {
   "cell_type": "code",
   "execution_count": 313,
   "metadata": {},
   "outputs": [
    {
     "data": {
      "image/png": "[encoded data removed]",
      "text/plain": [
       "<Figure size 432x288 with 2 Axes>"
      ]
     },
     "metadata": {
      "needs_background": "light"
     },
     "output_type": "display_data"
    }
   ],
   "source": [
    "sns.heatmap(\n",
    "    confusion_matrix(labels, pred_vote),\n",
    "    cmap=\"Blues\", square=True, annot = True, fmt = '.0f'\n",
    ")\n",
    "\n",
    "plt.show()"
   ]
  },
  {
   "cell_type": "code",
   "execution_count": 314,
   "metadata": {},
   "outputs": [
    {
     "name": "stdout",
     "output_type": "stream",
     "text": [
      "              precision    recall  f1-score   support\n",
      "\n",
      "           0       0.80      0.86      0.83       500\n",
      "           1       0.70      0.60      0.65       268\n",
      "\n",
      "    accuracy                           0.77       768\n",
      "   macro avg       0.75      0.73      0.74       768\n",
      "weighted avg       0.77      0.77      0.77       768\n",
      "\n"
     ]
    }
   ],
   "source": [
    "print(classification_report(labels, pred_vote))"
   ]
  },
  {
   "cell_type": "markdown",
   "metadata": {},
   "source": [
    "### TPOT auto ml"
   ]
  },
  {
   "cell_type": "code",
   "execution_count": null,
   "metadata": {},
   "outputs": [],
   "source": [
    "# Create a tpot optimizer with parameters\n",
    "tpot = TPOTClassifier(scoring = 'balanced_accuracy', \n",
    "                     max_time_mins = 480, \n",
    "                     n_jobs = -1,\n",
    "                     verbosity = 2,\n",
    "                     cv = 5)\n",
    "\n",
    "tp_fit = tpot.fit(features, labels)\n",
    "\n",
    "tpot.export('diabetes_pipeline.py')"
   ]
  },
  {
   "cell_type": "code",
   "execution_count": null,
   "metadata": {},
   "outputs": [],
   "source": []
  },
  {
   "cell_type": "code",
   "execution_count": null,
   "metadata": {},
   "outputs": [],
   "source": []
  },
  {
   "cell_type": "markdown",
   "metadata": {},
   "source": [
    "# TO DO\n",
    "- [x] Cross Validation: from sklearn.model_selection import cross_val_score\n",
    "- [x] CV Search \\\n",
    "- [ ] Imbalanced Learning \"pip install -U --user imbalanced-learn\" \"from imblearn.over_sampling import SMOTENC\""
   ]
  }
 ],
 "metadata": {
  "kernelspec": {
   "display_name": "Python 3",
   "language": "python",
   "name": "python3"
  },
  "language_info": {
   "codemirror_mode": {
    "name": "ipython",
    "version": 3
   },
   "file_extension": ".py",
   "mimetype": "text/x-python",
   "name": "python",
   "nbconvert_exporter": "python",
   "pygments_lexer": "ipython3",
   "version": "3.8.6"
  }
 },
 "nbformat": 4,
 "nbformat_minor": 4
}
